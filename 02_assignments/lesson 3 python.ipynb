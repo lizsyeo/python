{
 "cells": [
  {
   "cell_type": "code",
   "execution_count": 6,
   "metadata": {},
   "outputs": [],
   "source": [
    "qualifying_condition = [\"cataract\", \"glaucoma\"]"
   ]
  },
  {
   "cell_type": "code",
   "execution_count": 7,
   "metadata": {},
   "outputs": [],
   "source": [
    "def eye_exam_covered(age, qualifying_condition, time_since_last_exam):\n",
    "    if age <= 19:\n",
    "        if time_since_last_exam >= 12:\n",
    "            return \"You are eligible for 1 eye exam\"\n",
    "        else:\n",
    "            return \"It has not been 12 months since your last exam\"\n",
    "    elif 20 <= age <= 64:\n",
    "        if qualifying_condition:\n",
    "            if time_since_last_exam >=12:\n",
    "                return \"You are eligible\"\n",
    "            else:\n",
    "                return \"It hasn't been 12 months since your last exam\"\n",
    "        else:\n",
    "            return \"You do not have a qualifying condition\"\n",
    "    elif age >=65:\n",
    "        if time_since_last_exam >= 18:\n",
    "            return \"You are eligible for 1 eye exam\"\n",
    "        else:\n",
    "            return \"It hasn't been 18 months since your last exam\"\n",
    "    else:\n",
    "        return \"Invalid age input\""
   ]
  },
  {
   "cell_type": "code",
   "execution_count": 8,
   "metadata": {},
   "outputs": [
    {
     "ename": "NameError",
     "evalue": "name 'glaucoma' is not defined",
     "output_type": "error",
     "traceback": [
      "\u001b[0;31m---------------------------------------------------------------------------\u001b[0m",
      "\u001b[0;31mNameError\u001b[0m                                 Traceback (most recent call last)",
      "Cell \u001b[0;32mIn[8], line 1\u001b[0m\n\u001b[0;32m----> 1\u001b[0m eye_exam_covered(\u001b[38;5;241m19\u001b[39m,\u001b[43mglaucoma\u001b[49m,\u001b[38;5;241m11\u001b[39m)\n",
      "\u001b[0;31mNameError\u001b[0m: name 'glaucoma' is not defined"
     ]
    }
   ],
   "source": [
    "eye_exam_covered(19,glaucoma,11)"
   ]
  },
  {
   "cell_type": "code",
   "execution_count": 3,
   "metadata": {},
   "outputs": [
    {
     "data": {
      "text/plain": [
       "'You are eligible'"
      ]
     },
     "execution_count": 3,
     "metadata": {},
     "output_type": "execute_result"
    }
   ],
   "source": [
    "eye_exam_covered(34, True, 12)"
   ]
  },
  {
   "cell_type": "code",
   "execution_count": 4,
   "metadata": {},
   "outputs": [
    {
     "data": {
      "text/plain": [
       "'You do not have a qualifying condition'"
      ]
     },
     "execution_count": 4,
     "metadata": {},
     "output_type": "execute_result"
    }
   ],
   "source": [
    "eye_exam_covered(34, False, 24)"
   ]
  },
  {
   "cell_type": "code",
   "execution_count": 9,
   "metadata": {},
   "outputs": [
    {
     "name": "stdout",
     "output_type": "stream",
     "text": [
      "['a', 'e', 'i', 'o', 'u'] are vowels.\n"
     ]
    }
   ],
   "source": [
    "#list\n",
    "\n",
    "vowels = ['a','e','i','o','u']\n",
    "print(f\"{vowels} are vowels.\")"
   ]
  },
  {
   "cell_type": "code",
   "execution_count": 10,
   "metadata": {},
   "outputs": [
    {
     "name": "stdout",
     "output_type": "stream",
     "text": [
      "empty_list is <class 'list'>\n"
     ]
    }
   ],
   "source": [
    "empty_list = []\n",
    "print('empty_list is', type(empty_list))"
   ]
  },
  {
   "cell_type": "code",
   "execution_count": 11,
   "metadata": {},
   "outputs": [
    {
     "data": {
      "text/plain": [
       "True"
      ]
     },
     "execution_count": 11,
     "metadata": {},
     "output_type": "execute_result"
    }
   ],
   "source": [
    "dsi = \"There are a lot of participants in this cohort\"\n",
    "'participants' in dsi"
   ]
  },
  {
   "cell_type": "code",
   "execution_count": 12,
   "metadata": {},
   "outputs": [
    {
     "data": {
      "text/plain": [
       "True"
      ]
     },
     "execution_count": 12,
     "metadata": {},
     "output_type": "execute_result"
    }
   ],
   "source": [
    "'e' in vowels"
   ]
  },
  {
   "cell_type": "code",
   "execution_count": 13,
   "metadata": {},
   "outputs": [],
   "source": [
    "# immutable data types\n",
    "\n",
    "emma = 'cheese sandwich'\n",
    "kaylie = emma"
   ]
  },
  {
   "cell_type": "code",
   "execution_count": 14,
   "metadata": {},
   "outputs": [],
   "source": [
    "emma = 'ham sandwich'"
   ]
  },
  {
   "cell_type": "code",
   "execution_count": 15,
   "metadata": {},
   "outputs": [
    {
     "data": {
      "text/plain": [
       "'cheese sandwich'"
      ]
     },
     "execution_count": 15,
     "metadata": {},
     "output_type": "execute_result"
    }
   ],
   "source": [
    "kaylie"
   ]
  },
  {
   "cell_type": "code",
   "execution_count": 16,
   "metadata": {},
   "outputs": [],
   "source": [
    "#mutable, sandwich_copy updates the values automatically\n",
    "sandwich = ['bread','cheese','bread']\n",
    "sandwich_copy = sandwich"
   ]
  },
  {
   "cell_type": "code",
   "execution_count": 17,
   "metadata": {},
   "outputs": [
    {
     "data": {
      "text/plain": [
       "['bread', 'ham', 'bread']"
      ]
     },
     "execution_count": 17,
     "metadata": {},
     "output_type": "execute_result"
    }
   ],
   "source": [
    "sandwich[1] = 'ham'\n",
    "sandwich_copy"
   ]
  },
  {
   "cell_type": "code",
   "execution_count": 18,
   "metadata": {},
   "outputs": [],
   "source": [
    "combo = ['burger','fries','onion rings']\n",
    "kid_meal = list(combo)"
   ]
  },
  {
   "cell_type": "code",
   "execution_count": 20,
   "metadata": {},
   "outputs": [
    {
     "data": {
      "text/plain": [
       "['pie', 'fries', 'onion rings']"
      ]
     },
     "execution_count": 20,
     "metadata": {},
     "output_type": "execute_result"
    }
   ],
   "source": [
    "combo[0] = 'pie'\n",
    "combo"
   ]
  },
  {
   "cell_type": "code",
   "execution_count": 21,
   "metadata": {},
   "outputs": [
    {
     "data": {
      "text/plain": [
       "['burger', 'fries', 'onion rings']"
      ]
     },
     "execution_count": 21,
     "metadata": {},
     "output_type": "execute_result"
    }
   ],
   "source": [
    "kid_meal"
   ]
  },
  {
   "cell_type": "code",
   "execution_count": 23,
   "metadata": {},
   "outputs": [
    {
     "data": {
      "text/plain": [
       "['red', 'orange', 'yellow', 'green', 'blue', 'violet', ['purple']]"
      ]
     },
     "execution_count": 23,
     "metadata": {},
     "output_type": "execute_result"
    }
   ],
   "source": [
    "#append\n",
    "rainbow = ['red', 'orange','yellow','green','blue','violet']\n",
    "rainbow.append(['purple'])\n",
    "rainbow"
   ]
  },
  {
   "cell_type": "code",
   "execution_count": 24,
   "metadata": {},
   "outputs": [],
   "source": [
    "rainbow.extend('red')"
   ]
  },
  {
   "cell_type": "code",
   "execution_count": 25,
   "metadata": {},
   "outputs": [
    {
     "data": {
      "text/plain": [
       "['red',\n",
       " 'orange',\n",
       " 'yellow',\n",
       " 'green',\n",
       " 'blue',\n",
       " 'violet',\n",
       " ['purple'],\n",
       " 'r',\n",
       " 'e',\n",
       " 'd']"
      ]
     },
     "execution_count": 25,
     "metadata": {},
     "output_type": "execute_result"
    }
   ],
   "source": [
    "rainbow"
   ]
  },
  {
   "cell_type": "code",
   "execution_count": 26,
   "metadata": {},
   "outputs": [
    {
     "data": {
      "text/plain": [
       "['red',\n",
       " 'orange',\n",
       " 'yellow',\n",
       " 'green',\n",
       " 'blue',\n",
       " 'violet',\n",
       " ['purple'],\n",
       " 'r',\n",
       " 'e',\n",
       " 'd',\n",
       " 'purple']"
      ]
     },
     "execution_count": 26,
     "metadata": {},
     "output_type": "execute_result"
    }
   ],
   "source": [
    "rainbow.append('purple')\n",
    "rainbow"
   ]
  },
  {
   "cell_type": "code",
   "execution_count": 28,
   "metadata": {},
   "outputs": [
    {
     "data": {
      "text/plain": [
       "['red',\n",
       " 'orange',\n",
       " 'yellow',\n",
       " 'green',\n",
       " 'blue',\n",
       " 'violet',\n",
       " 'indigo',\n",
       " ['purple'],\n",
       " 'r',\n",
       " 'e',\n",
       " 'd',\n",
       " 'purple']"
      ]
     },
     "execution_count": 28,
     "metadata": {},
     "output_type": "execute_result"
    }
   ],
   "source": [
    "rainbow.insert(6,'indigo')\n",
    "rainbow"
   ]
  },
  {
   "cell_type": "code",
   "execution_count": 30,
   "metadata": {},
   "outputs": [
    {
     "data": {
      "text/plain": [
       "['red',\n",
       " 'orange',\n",
       " 'yellow',\n",
       " 'green',\n",
       " 'blue',\n",
       " 'violet',\n",
       " 'indigo',\n",
       " 'r',\n",
       " 'e',\n",
       " 'd',\n",
       " 'purple']"
      ]
     },
     "execution_count": 30,
     "metadata": {},
     "output_type": "execute_result"
    }
   ],
   "source": [
    "#remove items\n",
    "rainbow.remove(['purple'])\n",
    "rainbow"
   ]
  },
  {
   "cell_type": "code",
   "execution_count": 32,
   "metadata": {},
   "outputs": [
    {
     "data": {
      "text/plain": [
       "['cabbage', 'dill', 'kale']"
      ]
     },
     "execution_count": 32,
     "metadata": {},
     "output_type": "execute_result"
    }
   ],
   "source": [
    "#using a method\n",
    "fruits = ['pineapple', 'apple','grape']\n",
    "fruits.sort()\n",
    "fruits\n",
    "#using a function, returns a new list with sorted values but doesn't change the original list\n",
    "vege = ['kale', 'cabbage','dill']\n",
    "sorted(vege)\n"
   ]
  },
  {
   "cell_type": "code",
   "execution_count": 33,
   "metadata": {},
   "outputs": [
    {
     "data": {
      "text/plain": [
       "['kale', 'cabbage', 'dill']"
      ]
     },
     "execution_count": 33,
     "metadata": {},
     "output_type": "execute_result"
    }
   ],
   "source": [
    "vege"
   ]
  },
  {
   "cell_type": "code",
   "execution_count": 35,
   "metadata": {},
   "outputs": [
    {
     "data": {
      "text/plain": [
       "['kale', 'cabbage', 'dill']"
      ]
     },
     "execution_count": 35,
     "metadata": {},
     "output_type": "execute_result"
    }
   ],
   "source": [
    "def last_letter(text):\n",
    "    return text[-1]\n",
    "sorted(vege, key=last_letter)"
   ]
  },
  {
   "cell_type": "code",
   "execution_count": 37,
   "metadata": {},
   "outputs": [
    {
     "data": {
      "text/plain": [
       "['broccoli', 'zucchini', 'carrot']"
      ]
     },
     "execution_count": 37,
     "metadata": {},
     "output_type": "execute_result"
    }
   ],
   "source": [
    "vege = ['carrot', 'broccoli', 'zucchini']\n",
    "def last_letter(text):\n",
    "    return text[-1]\n",
    "sorted(vege, key=last_letter)"
   ]
  },
  {
   "cell_type": "code",
   "execution_count": null,
   "metadata": {},
   "outputs": [],
   "source": []
  }
 ],
 "metadata": {
  "kernelspec": {
   "display_name": "dsi_participant",
   "language": "python",
   "name": "python3"
  },
  "language_info": {
   "codemirror_mode": {
    "name": "ipython",
    "version": 3
   },
   "file_extension": ".py",
   "mimetype": "text/x-python",
   "name": "python",
   "nbconvert_exporter": "python",
   "pygments_lexer": "ipython3",
   "version": "3.9.19"
  }
 },
 "nbformat": 4,
 "nbformat_minor": 2
}
